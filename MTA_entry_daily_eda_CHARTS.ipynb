{
 "cells": [
  {
   "cell_type": "markdown",
   "metadata": {},
   "source": [
    "# Aggregating Daily MTA DATA"
   ]
  },
  {
   "cell_type": "code",
   "execution_count": 1,
   "metadata": {},
   "outputs": [],
   "source": [
    "import matplotlib.pyplot as plt\n",
    "import numpy as np\n",
    "import pandas as pd\n",
    "import seaborn as sns\n",
    "%matplotlib inline "
   ]
  },
  {
   "cell_type": "code",
   "execution_count": 25,
   "metadata": {},
   "outputs": [
    {
     "data": {
      "text/html": [
       "<div>\n",
       "<style scoped>\n",
       "    .dataframe tbody tr th:only-of-type {\n",
       "        vertical-align: middle;\n",
       "    }\n",
       "\n",
       "    .dataframe tbody tr th {\n",
       "        vertical-align: top;\n",
       "    }\n",
       "\n",
       "    .dataframe thead th {\n",
       "        text-align: right;\n",
       "    }\n",
       "</style>\n",
       "<table border=\"1\" class=\"dataframe\">\n",
       "  <thead>\n",
       "    <tr style=\"text-align: right;\">\n",
       "      <th></th>\n",
       "      <th>Unnamed: 0</th>\n",
       "      <th>C/A</th>\n",
       "      <th>Entries_per_day</th>\n",
       "      <th>Full Time</th>\n",
       "      <th>SCP</th>\n",
       "      <th>Station</th>\n",
       "    </tr>\n",
       "  </thead>\n",
       "  <tbody>\n",
       "    <tr>\n",
       "      <th>0</th>\n",
       "      <td>5</td>\n",
       "      <td>A006</td>\n",
       "      <td>950.0</td>\n",
       "      <td>2018-05-06</td>\n",
       "      <td>00-00-00</td>\n",
       "      <td>5 AV/59 ST</td>\n",
       "    </tr>\n",
       "    <tr>\n",
       "      <th>1</th>\n",
       "      <td>6</td>\n",
       "      <td>A006</td>\n",
       "      <td>704.0</td>\n",
       "      <td>2018-05-07</td>\n",
       "      <td>00-00-00</td>\n",
       "      <td>5 AV/59 ST</td>\n",
       "    </tr>\n",
       "    <tr>\n",
       "      <th>2</th>\n",
       "      <td>7</td>\n",
       "      <td>A006</td>\n",
       "      <td>1602.0</td>\n",
       "      <td>2018-05-08</td>\n",
       "      <td>00-00-00</td>\n",
       "      <td>5 AV/59 ST</td>\n",
       "    </tr>\n",
       "    <tr>\n",
       "      <th>3</th>\n",
       "      <td>8</td>\n",
       "      <td>A006</td>\n",
       "      <td>1728.5</td>\n",
       "      <td>2018-05-09</td>\n",
       "      <td>00-00-00</td>\n",
       "      <td>5 AV/59 ST</td>\n",
       "    </tr>\n",
       "    <tr>\n",
       "      <th>4</th>\n",
       "      <td>9</td>\n",
       "      <td>A006</td>\n",
       "      <td>1721.0</td>\n",
       "      <td>2018-05-10</td>\n",
       "      <td>00-00-00</td>\n",
       "      <td>5 AV/59 ST</td>\n",
       "    </tr>\n",
       "  </tbody>\n",
       "</table>\n",
       "</div>"
      ],
      "text/plain": [
       "   Unnamed: 0   C/A  Entries_per_day   Full Time       SCP     Station\n",
       "0           5  A006            950.0  2018-05-06  00-00-00  5 AV/59 ST\n",
       "1           6  A006            704.0  2018-05-07  00-00-00  5 AV/59 ST\n",
       "2           7  A006           1602.0  2018-05-08  00-00-00  5 AV/59 ST\n",
       "3           8  A006           1728.5  2018-05-09  00-00-00  5 AV/59 ST\n",
       "4           9  A006           1721.0  2018-05-10  00-00-00  5 AV/59 ST"
      ]
     },
     "execution_count": 25,
     "metadata": {},
     "output_type": "execute_result"
    }
   ],
   "source": [
    "# Import Entries_per_day CSV sheet locally\n",
    "df = pd.read_csv('../data/Entries_per_day.csv')\n",
    "df.head()"
   ]
  },
  {
   "cell_type": "markdown",
   "metadata": {},
   "source": [
    "## Average 2-Month Ridership"
   ]
  },
  {
   "cell_type": "code",
   "execution_count": 26,
   "metadata": {},
   "outputs": [],
   "source": [
    "# Set a 15000 person cutoff for the max to get rid of nonsensical outliers\n",
    "df = df.loc[(df['Entries_per_day'] < 15000), :]\n",
    "df = df.loc[(df['Entries_per_day'] > 0), :]"
   ]
  },
  {
   "cell_type": "code",
   "execution_count": 39,
   "metadata": {},
   "outputs": [
    {
     "data": {
      "text/html": [
       "<div>\n",
       "<style scoped>\n",
       "    .dataframe tbody tr th:only-of-type {\n",
       "        vertical-align: middle;\n",
       "    }\n",
       "\n",
       "    .dataframe tbody tr th {\n",
       "        vertical-align: top;\n",
       "    }\n",
       "\n",
       "    .dataframe thead th {\n",
       "        text-align: right;\n",
       "    }\n",
       "</style>\n",
       "<table border=\"1\" class=\"dataframe\">\n",
       "  <thead>\n",
       "    <tr style=\"text-align: right;\">\n",
       "      <th></th>\n",
       "      <th>Station</th>\n",
       "      <th>Entries_per_day</th>\n",
       "    </tr>\n",
       "  </thead>\n",
       "  <tbody>\n",
       "    <tr>\n",
       "      <th>60</th>\n",
       "      <td>34 ST-PENN STA</td>\n",
       "      <td>8049160.0</td>\n",
       "    </tr>\n",
       "    <tr>\n",
       "      <th>232</th>\n",
       "      <td>GRD CNTRL-42 ST</td>\n",
       "      <td>7004845.0</td>\n",
       "    </tr>\n",
       "    <tr>\n",
       "      <th>58</th>\n",
       "      <td>34 ST-HERALD SQ</td>\n",
       "      <td>5493116.0</td>\n",
       "    </tr>\n",
       "    <tr>\n",
       "      <th>45</th>\n",
       "      <td>23 ST</td>\n",
       "      <td>5337666.5</td>\n",
       "    </tr>\n",
       "    <tr>\n",
       "      <th>14</th>\n",
       "      <td>14 ST-UNION SQ</td>\n",
       "      <td>5320481.0</td>\n",
       "    </tr>\n",
       "  </tbody>\n",
       "</table>\n",
       "</div>"
      ],
      "text/plain": [
       "             Station  Entries_per_day\n",
       "60    34 ST-PENN STA        8049160.0\n",
       "232  GRD CNTRL-42 ST        7004845.0\n",
       "58   34 ST-HERALD SQ        5493116.0\n",
       "45             23 ST        5337666.5\n",
       "14    14 ST-UNION SQ        5320481.0"
      ]
     },
     "execution_count": 39,
     "metadata": {},
     "output_type": "execute_result"
    }
   ],
   "source": [
    "twomonth = (df\n",
    " .groupby(['Station'])['Entries_per_day']\n",
    " .sum()\n",
    " .reset_index()\n",
    " .sort_values(['Entries_per_day'], ascending=[False,])\n",
    ")\n",
    "twomonth.head(5)"
   ]
  },
  {
   "cell_type": "code",
   "execution_count": 40,
   "metadata": {},
   "outputs": [
    {
     "data": {
      "text/html": [
       "<div>\n",
       "<style scoped>\n",
       "    .dataframe tbody tr th:only-of-type {\n",
       "        vertical-align: middle;\n",
       "    }\n",
       "\n",
       "    .dataframe tbody tr th {\n",
       "        vertical-align: top;\n",
       "    }\n",
       "\n",
       "    .dataframe thead th {\n",
       "        text-align: right;\n",
       "    }\n",
       "</style>\n",
       "<table border=\"1\" class=\"dataframe\">\n",
       "  <thead>\n",
       "    <tr style=\"text-align: right;\">\n",
       "      <th></th>\n",
       "      <th>Station</th>\n",
       "      <th>2months</th>\n",
       "    </tr>\n",
       "  </thead>\n",
       "  <tbody>\n",
       "    <tr>\n",
       "      <th>60</th>\n",
       "      <td>34 ST-PENN STA</td>\n",
       "      <td>8049160.0</td>\n",
       "    </tr>\n",
       "    <tr>\n",
       "      <th>232</th>\n",
       "      <td>GRD CNTRL-42 ST</td>\n",
       "      <td>7004845.0</td>\n",
       "    </tr>\n",
       "    <tr>\n",
       "      <th>58</th>\n",
       "      <td>34 ST-HERALD SQ</td>\n",
       "      <td>5493116.0</td>\n",
       "    </tr>\n",
       "    <tr>\n",
       "      <th>45</th>\n",
       "      <td>23 ST</td>\n",
       "      <td>5337666.5</td>\n",
       "    </tr>\n",
       "    <tr>\n",
       "      <th>14</th>\n",
       "      <td>14 ST-UNION SQ</td>\n",
       "      <td>5320481.0</td>\n",
       "    </tr>\n",
       "    <tr>\n",
       "      <th>352</th>\n",
       "      <td>TIMES SQ-42 ST</td>\n",
       "      <td>5075815.0</td>\n",
       "    </tr>\n",
       "    <tr>\n",
       "      <th>225</th>\n",
       "      <td>FULTON ST</td>\n",
       "      <td>4676937.0</td>\n",
       "    </tr>\n",
       "    <tr>\n",
       "      <th>67</th>\n",
       "      <td>42 ST-PORT AUTH</td>\n",
       "      <td>4601017.5</td>\n",
       "    </tr>\n",
       "    <tr>\n",
       "      <th>109</th>\n",
       "      <td>86 ST</td>\n",
       "      <td>4019731.0</td>\n",
       "    </tr>\n",
       "    <tr>\n",
       "      <th>9</th>\n",
       "      <td>125 ST</td>\n",
       "      <td>3829920.0</td>\n",
       "    </tr>\n",
       "  </tbody>\n",
       "</table>\n",
       "</div>"
      ],
      "text/plain": [
       "             Station    2months\n",
       "60    34 ST-PENN STA  8049160.0\n",
       "232  GRD CNTRL-42 ST  7004845.0\n",
       "58   34 ST-HERALD SQ  5493116.0\n",
       "45             23 ST  5337666.5\n",
       "14    14 ST-UNION SQ  5320481.0\n",
       "352   TIMES SQ-42 ST  5075815.0\n",
       "225        FULTON ST  4676937.0\n",
       "67   42 ST-PORT AUTH  4601017.5\n",
       "109            86 ST  4019731.0\n",
       "9             125 ST  3829920.0"
      ]
     },
     "execution_count": 40,
     "metadata": {},
     "output_type": "execute_result"
    }
   ],
   "source": [
    "twomonth.rename(columns={'Entries_per_day':'2months'},inplace=True)\n",
    "\n",
    "# Get Top 10 Stations\n",
    "topten_twomonth = twomonth.head(10)\n",
    "topten_twomonth"
   ]
  },
  {
   "cell_type": "code",
   "execution_count": 41,
   "metadata": {},
   "outputs": [
    {
     "name": "stderr",
     "output_type": "stream",
     "text": [
      "/anaconda3/lib/python3.6/site-packages/ipykernel_launcher.py:1: SettingWithCopyWarning: \n",
      "A value is trying to be set on a copy of a slice from a DataFrame.\n",
      "Try using .loc[row_indexer,col_indexer] = value instead\n",
      "\n",
      "See the caveats in the documentation: http://pandas.pydata.org/pandas-docs/stable/indexing.html#indexing-view-versus-copy\n",
      "  \"\"\"Entry point for launching an IPython kernel.\n"
     ]
    },
    {
     "data": {
      "text/plain": [
       "Text(0, 0.5, 'Station')"
      ]
     },
     "execution_count": 41,
     "metadata": {},
     "output_type": "execute_result"
    },
    {
     "data": {
      "image/png": "[encoded data removed]",
      "text/plain": [
       "<Figure size 1800x1080 with 1 Axes>"
      ]
     },
     "metadata": {},
     "output_type": "display_data"
    }
   ],
   "source": [
    "topten_twomonth['mean_entries'] = topten_twomonth['2months'] / 55\n",
    "plt.figure(figsize=(25,15))\n",
    "ax = sns.barplot(x='2months',y='Station',data=topten_twomonth, palette=\"Blues_d\")\n",
    "sns.set(rc={'axes.facecolor':'white' })\n",
    "ax.set_title('2-Month Ridership Averages')\n",
    "ax.set_xlabel(\"Riders\",fontsize=30)\n",
    "ax.set_ylabel(\"Station\",fontsize=30)\n"
   ]
  },
  {
   "cell_type": "markdown",
   "metadata": {},
   "source": [
    "## Weekday and Weekend Average 2 Month Ridership\n",
    "I edited these charts to show just the top 10 like above on weekdays and weekends.\n",
    "When in class we had accidentally shown all of them and got that really cool distribution. It might be nice to see something in that shape on the final presentation, since it's a cool viz. May bring those back."
   ]
  },
  {
   "cell_type": "code",
   "execution_count": 56,
   "metadata": {},
   "outputs": [
    {
     "data": {
      "text/html": [
       "<div>\n",
       "<style scoped>\n",
       "    .dataframe tbody tr th:only-of-type {\n",
       "        vertical-align: middle;\n",
       "    }\n",
       "\n",
       "    .dataframe tbody tr th {\n",
       "        vertical-align: top;\n",
       "    }\n",
       "\n",
       "    .dataframe thead th {\n",
       "        text-align: right;\n",
       "    }\n",
       "</style>\n",
       "<table border=\"1\" class=\"dataframe\">\n",
       "  <thead>\n",
       "    <tr style=\"text-align: right;\">\n",
       "      <th></th>\n",
       "      <th>Unnamed: 0</th>\n",
       "      <th>C/A</th>\n",
       "      <th>2months</th>\n",
       "      <th>Full Time</th>\n",
       "      <th>SCP</th>\n",
       "      <th>Station</th>\n",
       "      <th>FullDate</th>\n",
       "      <th>weekday</th>\n",
       "    </tr>\n",
       "  </thead>\n",
       "  <tbody>\n",
       "    <tr>\n",
       "      <th>0</th>\n",
       "      <td>5</td>\n",
       "      <td>A006</td>\n",
       "      <td>950.0</td>\n",
       "      <td>2018-05-06</td>\n",
       "      <td>00-00-00</td>\n",
       "      <td>5 AV/59 ST</td>\n",
       "      <td>2018-05-06</td>\n",
       "      <td>weekend</td>\n",
       "    </tr>\n",
       "    <tr>\n",
       "      <th>1</th>\n",
       "      <td>6</td>\n",
       "      <td>A006</td>\n",
       "      <td>704.0</td>\n",
       "      <td>2018-05-07</td>\n",
       "      <td>00-00-00</td>\n",
       "      <td>5 AV/59 ST</td>\n",
       "      <td>2018-05-07</td>\n",
       "      <td>weekday</td>\n",
       "    </tr>\n",
       "    <tr>\n",
       "      <th>2</th>\n",
       "      <td>7</td>\n",
       "      <td>A006</td>\n",
       "      <td>1602.0</td>\n",
       "      <td>2018-05-08</td>\n",
       "      <td>00-00-00</td>\n",
       "      <td>5 AV/59 ST</td>\n",
       "      <td>2018-05-08</td>\n",
       "      <td>weekday</td>\n",
       "    </tr>\n",
       "    <tr>\n",
       "      <th>3</th>\n",
       "      <td>8</td>\n",
       "      <td>A006</td>\n",
       "      <td>1728.5</td>\n",
       "      <td>2018-05-09</td>\n",
       "      <td>00-00-00</td>\n",
       "      <td>5 AV/59 ST</td>\n",
       "      <td>2018-05-09</td>\n",
       "      <td>weekday</td>\n",
       "    </tr>\n",
       "    <tr>\n",
       "      <th>4</th>\n",
       "      <td>9</td>\n",
       "      <td>A006</td>\n",
       "      <td>1721.0</td>\n",
       "      <td>2018-05-10</td>\n",
       "      <td>00-00-00</td>\n",
       "      <td>5 AV/59 ST</td>\n",
       "      <td>2018-05-10</td>\n",
       "      <td>weekday</td>\n",
       "    </tr>\n",
       "  </tbody>\n",
       "</table>\n",
       "</div>"
      ],
      "text/plain": [
       "   Unnamed: 0   C/A  2months   Full Time       SCP     Station   FullDate  \\\n",
       "0           5  A006    950.0  2018-05-06  00-00-00  5 AV/59 ST 2018-05-06   \n",
       "1           6  A006    704.0  2018-05-07  00-00-00  5 AV/59 ST 2018-05-07   \n",
       "2           7  A006   1602.0  2018-05-08  00-00-00  5 AV/59 ST 2018-05-08   \n",
       "3           8  A006   1728.5  2018-05-09  00-00-00  5 AV/59 ST 2018-05-09   \n",
       "4           9  A006   1721.0  2018-05-10  00-00-00  5 AV/59 ST 2018-05-10   \n",
       "\n",
       "   weekday  \n",
       "0  weekend  \n",
       "1  weekday  \n",
       "2  weekday  \n",
       "3  weekday  \n",
       "4  weekday  "
      ]
     },
     "execution_count": 56,
     "metadata": {},
     "output_type": "execute_result"
    }
   ],
   "source": [
    "# Make a numeric column corresponding to weekday\n",
    "df['FullDate'] = pd.to_datetime(df['Full Time'])\n",
    "df['weekday'] = df['FullDate'].dt.weekday\n",
    "dic = {0:'weekday',1:'weekday',2:'weekday',3:'weekday',4:'weekday',5:'weekend',6:'weekend'}\n",
    "df['weekday'].replace(dic,inplace=True)\n",
    "df.head()"
   ]
  },
  {
   "cell_type": "code",
   "execution_count": 57,
   "metadata": {},
   "outputs": [],
   "source": [
    "#Rename column\n",
    "df.rename(columns={'Entries_per_day':'2months'},inplace=True)\n"
   ]
  },
  {
   "cell_type": "code",
   "execution_count": 59,
   "metadata": {},
   "outputs": [
    {
     "data": {
      "text/html": [
       "<div>\n",
       "<style scoped>\n",
       "    .dataframe tbody tr th:only-of-type {\n",
       "        vertical-align: middle;\n",
       "    }\n",
       "\n",
       "    .dataframe tbody tr th {\n",
       "        vertical-align: top;\n",
       "    }\n",
       "\n",
       "    .dataframe thead th {\n",
       "        text-align: right;\n",
       "    }\n",
       "</style>\n",
       "<table border=\"1\" class=\"dataframe\">\n",
       "  <thead>\n",
       "    <tr style=\"text-align: right;\">\n",
       "      <th></th>\n",
       "      <th>Station</th>\n",
       "      <th>2months</th>\n",
       "    </tr>\n",
       "  </thead>\n",
       "  <tbody>\n",
       "    <tr>\n",
       "      <th>60</th>\n",
       "      <td>34 ST-PENN STA</td>\n",
       "      <td>6097090.0</td>\n",
       "    </tr>\n",
       "    <tr>\n",
       "      <th>232</th>\n",
       "      <td>GRD CNTRL-42 ST</td>\n",
       "      <td>5380984.5</td>\n",
       "    </tr>\n",
       "    <tr>\n",
       "      <th>58</th>\n",
       "      <td>34 ST-HERALD SQ</td>\n",
       "      <td>4084375.0</td>\n",
       "    </tr>\n",
       "    <tr>\n",
       "      <th>45</th>\n",
       "      <td>23 ST</td>\n",
       "      <td>4049257.5</td>\n",
       "    </tr>\n",
       "    <tr>\n",
       "      <th>14</th>\n",
       "      <td>14 ST-UNION SQ</td>\n",
       "      <td>3852950.5</td>\n",
       "    </tr>\n",
       "    <tr>\n",
       "      <th>352</th>\n",
       "      <td>TIMES SQ-42 ST</td>\n",
       "      <td>3728091.5</td>\n",
       "    </tr>\n",
       "    <tr>\n",
       "      <th>225</th>\n",
       "      <td>FULTON ST</td>\n",
       "      <td>3519748.5</td>\n",
       "    </tr>\n",
       "    <tr>\n",
       "      <th>67</th>\n",
       "      <td>42 ST-PORT AUTH</td>\n",
       "      <td>3361826.0</td>\n",
       "    </tr>\n",
       "    <tr>\n",
       "      <th>109</th>\n",
       "      <td>86 ST</td>\n",
       "      <td>2965488.5</td>\n",
       "    </tr>\n",
       "    <tr>\n",
       "      <th>9</th>\n",
       "      <td>125 ST</td>\n",
       "      <td>2775729.0</td>\n",
       "    </tr>\n",
       "  </tbody>\n",
       "</table>\n",
       "</div>"
      ],
      "text/plain": [
       "             Station    2months\n",
       "60    34 ST-PENN STA  6097090.0\n",
       "232  GRD CNTRL-42 ST  5380984.5\n",
       "58   34 ST-HERALD SQ  4084375.0\n",
       "45             23 ST  4049257.5\n",
       "14    14 ST-UNION SQ  3852950.5\n",
       "352   TIMES SQ-42 ST  3728091.5\n",
       "225        FULTON ST  3519748.5\n",
       "67   42 ST-PORT AUTH  3361826.0\n",
       "109            86 ST  2965488.5\n",
       "9             125 ST  2775729.0"
      ]
     },
     "execution_count": 59,
     "metadata": {},
     "output_type": "execute_result"
    }
   ],
   "source": [
    "# Weekday specific Top 10 stations Aggregation\n",
    "dfwkday = df.loc[df.weekday == 'weekday']\n",
    "dfwkday = (dfwkday\n",
    " .groupby(['Station'])['2months']\n",
    " .sum()\n",
    " .reset_index()\n",
    " .sort_values(['2months'], ascending=[False,])\n",
    ")\n",
    "\n",
    "# Get Top 10 Stations\n",
    "topten_twomonth_wkday = dfwkday.head(10)\n",
    "topten_twomonth_wkday"
   ]
  },
  {
   "cell_type": "code",
   "execution_count": 64,
   "metadata": {},
   "outputs": [
    {
     "data": {
      "text/html": [
       "<div>\n",
       "<style scoped>\n",
       "    .dataframe tbody tr th:only-of-type {\n",
       "        vertical-align: middle;\n",
       "    }\n",
       "\n",
       "    .dataframe tbody tr th {\n",
       "        vertical-align: top;\n",
       "    }\n",
       "\n",
       "    .dataframe thead th {\n",
       "        text-align: right;\n",
       "    }\n",
       "</style>\n",
       "<table border=\"1\" class=\"dataframe\">\n",
       "  <thead>\n",
       "    <tr style=\"text-align: right;\">\n",
       "      <th></th>\n",
       "      <th>Station</th>\n",
       "      <th>2months</th>\n",
       "    </tr>\n",
       "  </thead>\n",
       "  <tbody>\n",
       "    <tr>\n",
       "      <th>60</th>\n",
       "      <td>34 ST-PENN STA</td>\n",
       "      <td>1952070.0</td>\n",
       "    </tr>\n",
       "    <tr>\n",
       "      <th>232</th>\n",
       "      <td>GRD CNTRL-42 ST</td>\n",
       "      <td>1623860.5</td>\n",
       "    </tr>\n",
       "    <tr>\n",
       "      <th>14</th>\n",
       "      <td>14 ST-UNION SQ</td>\n",
       "      <td>1467530.5</td>\n",
       "    </tr>\n",
       "    <tr>\n",
       "      <th>58</th>\n",
       "      <td>34 ST-HERALD SQ</td>\n",
       "      <td>1408741.0</td>\n",
       "    </tr>\n",
       "    <tr>\n",
       "      <th>352</th>\n",
       "      <td>TIMES SQ-42 ST</td>\n",
       "      <td>1347723.5</td>\n",
       "    </tr>\n",
       "    <tr>\n",
       "      <th>45</th>\n",
       "      <td>23 ST</td>\n",
       "      <td>1288409.0</td>\n",
       "    </tr>\n",
       "    <tr>\n",
       "      <th>67</th>\n",
       "      <td>42 ST-PORT AUTH</td>\n",
       "      <td>1239191.5</td>\n",
       "    </tr>\n",
       "    <tr>\n",
       "      <th>225</th>\n",
       "      <td>FULTON ST</td>\n",
       "      <td>1157188.5</td>\n",
       "    </tr>\n",
       "    <tr>\n",
       "      <th>109</th>\n",
       "      <td>86 ST</td>\n",
       "      <td>1054242.5</td>\n",
       "    </tr>\n",
       "    <tr>\n",
       "      <th>9</th>\n",
       "      <td>125 ST</td>\n",
       "      <td>1054191.0</td>\n",
       "    </tr>\n",
       "  </tbody>\n",
       "</table>\n",
       "</div>"
      ],
      "text/plain": [
       "             Station    2months\n",
       "60    34 ST-PENN STA  1952070.0\n",
       "232  GRD CNTRL-42 ST  1623860.5\n",
       "14    14 ST-UNION SQ  1467530.5\n",
       "58   34 ST-HERALD SQ  1408741.0\n",
       "352   TIMES SQ-42 ST  1347723.5\n",
       "45             23 ST  1288409.0\n",
       "67   42 ST-PORT AUTH  1239191.5\n",
       "225        FULTON ST  1157188.5\n",
       "109            86 ST  1054242.5\n",
       "9             125 ST  1054191.0"
      ]
     },
     "execution_count": 64,
     "metadata": {},
     "output_type": "execute_result"
    }
   ],
   "source": [
    "# Weekend specific Top 10 stations Aggregation\n",
    "\n",
    "dfwknd = df.loc[df.weekday == 'weekend']\n",
    "dfwknd = (dfwknd\n",
    " .groupby(['Station'])['2months']\n",
    " .sum()\n",
    " .reset_index()\n",
    " .sort_values(['2months'], ascending=[False,])\n",
    ")\n",
    "topten_twomonth_wknd = dfwknd.head(10)\n",
    "topten_twomonth_wknd"
   ]
  },
  {
   "cell_type": "code",
   "execution_count": 63,
   "metadata": {},
   "outputs": [
    {
     "name": "stderr",
     "output_type": "stream",
     "text": [
      "/anaconda3/lib/python3.6/site-packages/ipykernel_launcher.py:1: SettingWithCopyWarning: \n",
      "A value is trying to be set on a copy of a slice from a DataFrame.\n",
      "Try using .loc[row_indexer,col_indexer] = value instead\n",
      "\n",
      "See the caveats in the documentation: http://pandas.pydata.org/pandas-docs/stable/indexing.html#indexing-view-versus-copy\n",
      "  \"\"\"Entry point for launching an IPython kernel.\n"
     ]
    },
    {
     "data": {
      "text/plain": [
       "Text(0, 0.5, 'Station')"
      ]
     },
     "execution_count": 63,
     "metadata": {},
     "output_type": "execute_result"
    },
    {
     "data": {
      "image/png": "[encoded data removed]",
      "text/plain": [
       "<Figure size 1800x1080 with 1 Axes>"
      ]
     },
     "metadata": {},
     "output_type": "display_data"
    }
   ],
   "source": [
    "topten_twomonth_wkday['avg_entries'] = topten_twomonth_wkday['2months'] / 55\n",
    "plt.figure(figsize=(25,15))\n",
    "ax = sns.barplot(x='avg_entries',y='Station',data=topten_twomonth_wkday, palette=\"Blues_d\")\n",
    "sns.set(rc={'axes.facecolor':'white' })\n",
    "ax.set_title('2-Month Ridership Averages on Weekdays')\n",
    "ax.set_xlabel(\"Riders\",fontsize=30)\n",
    "ax.set_ylabel(\"Station\",fontsize=30)"
   ]
  },
  {
   "cell_type": "code",
   "execution_count": 66,
   "metadata": {},
   "outputs": [
    {
     "name": "stderr",
     "output_type": "stream",
     "text": [
      "/anaconda3/lib/python3.6/site-packages/ipykernel_launcher.py:1: SettingWithCopyWarning: \n",
      "A value is trying to be set on a copy of a slice from a DataFrame.\n",
      "Try using .loc[row_indexer,col_indexer] = value instead\n",
      "\n",
      "See the caveats in the documentation: http://pandas.pydata.org/pandas-docs/stable/indexing.html#indexing-view-versus-copy\n",
      "  \"\"\"Entry point for launching an IPython kernel.\n"
     ]
    },
    {
     "data": {
      "text/plain": [
       "Text(0, 0.5, 'Station')"
      ]
     },
     "execution_count": 66,
     "metadata": {},
     "output_type": "execute_result"
    },
    {
     "data": {
      "image/png": "[encoded data removed]",
      "text/plain": [
       "<Figure size 1800x1080 with 1 Axes>"
      ]
     },
     "metadata": {},
     "output_type": "display_data"
    }
   ],
   "source": [
    "topten_twomonth_wknd['avg_entries'] = topten_twomonth_wknd['2months'] / 55\n",
    "plt.figure(figsize=(25,15))\n",
    "ax = sns.barplot(x='avg_entries',y='Station',data=topten_twomonth_wknd, palette=\"Blues_d\")\n",
    "sns.set(rc={'axes.facecolor':'white' })\n",
    "#ax.set(xlabel='Riders', ylabel='Stations')\n",
    "ax.set_title('2-Month Ridership Averages Weekend')\n",
    "ax.set_xlabel(\"Riders\",fontsize=30)\n",
    "ax.set_ylabel(\"Station\",fontsize=30)"
   ]
  },
  {
   "cell_type": "code",
   "execution_count": null,
   "metadata": {},
   "outputs": [],
   "source": []
  }
 ],
 "metadata": {
  "kernelspec": {
   "display_name": "Python 3",
   "language": "python",
   "name": "python3"
  },
  "language_info": {
   "codemirror_mode": {
    "name": "ipython",
    "version": 3
   },
   "file_extension": ".py",
   "mimetype": "text/x-python",
   "name": "python",
   "nbconvert_exporter": "python",
   "pygments_lexer": "ipython3",
   "version": "3.6.7"
  }
 },
 "nbformat": 4,
 "nbformat_minor": 2
}
